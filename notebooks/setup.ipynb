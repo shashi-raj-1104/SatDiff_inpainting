{
 "cells": [
  {
   "cell_type": "code",
   "execution_count": null,
   "id": "a08a5331",
   "metadata": {
    "vscode": {
     "languageId": "plaintext"
    }
   },
   "outputs": [],
   "source": [
    "!git clone https://github.com/shashi-raj-1104/SatDiff_inpainting.git\n"
   ]
  },
  {
   "cell_type": "code",
   "execution_count": null,
   "id": "84e05710",
   "metadata": {
    "vscode": {
     "languageId": "plaintext"
    }
   },
   "outputs": [],
   "source": [
    "%cd SatDiff_inpainting"
   ]
  },
  {
   "cell_type": "code",
   "execution_count": null,
   "id": "31ac4c45",
   "metadata": {
    "vscode": {
     "languageId": "plaintext"
    }
   },
   "outputs": [],
   "source": [
    "!python -m src.main\n"
   ]
  }
 ],
 "metadata": {
  "language_info": {
   "name": "python"
  }
 },
 "nbformat": 4,
 "nbformat_minor": 5
}
